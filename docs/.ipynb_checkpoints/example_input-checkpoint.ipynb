{
 "cells": [
  {
   "cell_type": "raw",
   "id": "c95703db",
   "metadata": {},
   "source": [
    "---\n",
    "---"
   ]
  },
  {
   "cell_type": "markdown",
   "id": "4e9507e5-4b07-4991-be57-3ee60c0a34f3",
   "metadata": {},
   "source": [
    "## This is a test notebook Hello"
   ]
  },
  {
   "cell_type": "markdown",
   "id": "a26f9811-95c0-4b85-90db-a0323c0029d1",
   "metadata": {},
   "source": [
    "This is a shell command:"
   ]
  },
  {
   "cell_type": "code",
   "execution_count": 2,
   "id": "6517a3a2",
   "metadata": {
    "tags": []
   },
   "outputs": [
    {
     "name": "stdout",
     "output_type": "stream",
     "text": [
      "hello world\n"
     ]
    }
   ],
   "source": [
    "! echo \"hello world\""
   ]
  },
  {
   "cell_type": "markdown",
   "id": "4e64c3ce-980b-41fa-9242-d37af42db90e",
   "metadata": {},
   "source": [
    "We are writing a python script to disk:"
   ]
  },
  {
   "cell_type": "code",
   "execution_count": 6,
   "id": "09477a73",
   "metadata": {
    "fence": "focus=11:13",
    "tags": []
   },
   "outputs": [
    {
     "name": "stdout",
     "output_type": "stream",
     "text": [
      "Overwriting myflow.py\n"
     ]
    }
   ],
   "source": [
    "%%writefile myflow.py\n",
    "\n",
    "from metaflow import FlowSpec, step\n",
    "\n",
    "class MyFlow(FlowSpec):\n",
    "    \n",
    "    @step\n",
    "    def start(self):\n",
    "        print('this is the start')\n",
    "        self.next(self.end)\n",
    "    \n",
    "    @step\n",
    "    def end(self):\n",
    "        print('this is the end')\n",
    "\n",
    "if __name__ == '__main__':\n",
    "    MyFlow()"
   ]
  },
  {
   "cell_type": "markdown",
   "id": "4b75f7ed-ff22-447f-8291-24f76bd1be74",
   "metadata": {},
   "source": [
    "Another shell command where we run a flow:"
   ]
  },
  {
   "cell_type": "code",
   "execution_count": 1,
   "id": "38089c35-4919-4129-b798-c4ed729bede2",
   "metadata": {},
   "outputs": [
    {
     "name": "stdout",
     "output_type": "stream",
     "text": [
      "\u001b[35m\u001b[1mMetaflow 2.5.0.post6+git62f5e52\u001b[0m\u001b[35m\u001b[22m executing \u001b[0m\u001b[31m\u001b[1mMyFlow\u001b[0m\u001b[35m\u001b[22m\u001b[0m\u001b[35m\u001b[22m for \u001b[0m\u001b[31m\u001b[1muser:hamel\u001b[0m\u001b[35m\u001b[22m\u001b[K\u001b[0m\u001b[35m\u001b[22m\u001b[0m\n",
      "\u001b[35m\u001b[22mValidating your flow...\u001b[K\u001b[0m\u001b[35m\u001b[22m\u001b[0m\n",
      "\u001b[32m\u001b[1m    The graph looks good!\u001b[K\u001b[0m\u001b[32m\u001b[1m\u001b[0m\n",
      "\u001b[35m\u001b[22mRunning pylint...\u001b[K\u001b[0m\u001b[35m\u001b[22m\u001b[0m\n",
      "\u001b[32m\u001b[1m    Pylint is happy!\u001b[K\u001b[0m\u001b[32m\u001b[1m\u001b[0m\n",
      "\u001b[35m2022-02-15 14:11:09.216 \u001b[0m\u001b[1mWorkflow starting (run-id 1644963069213536):\u001b[0m\n",
      "\u001b[35m2022-02-15 14:11:09.224 \u001b[0m\u001b[32m[1644963069213536/start/1 (pid 46840)] \u001b[0m\u001b[1mTask is starting.\u001b[0m\n",
      "\u001b[35m2022-02-15 14:11:09.858 \u001b[0m\u001b[32m[1644963069213536/start/1 (pid 46840)] \u001b[0m\u001b[22mthis is the start\u001b[0m\n",
      "\u001b[35m2022-02-15 14:11:09.929 \u001b[0m\u001b[32m[1644963069213536/start/1 (pid 46840)] \u001b[0m\u001b[1mTask finished successfully.\u001b[0m\n",
      "\u001b[35m2022-02-15 14:11:09.936 \u001b[0m\u001b[32m[1644963069213536/train/2 (pid 46845)] \u001b[0m\u001b[1mTask is starting.\u001b[0m\n",
      "\u001b[35m2022-02-15 14:11:10.556 \u001b[0m\u001b[32m[1644963069213536/train/2 (pid 46845)] \u001b[0m\u001b[22mthe train step\u001b[0m\n",
      "\u001b[35m2022-02-15 14:11:10.626 \u001b[0m\u001b[32m[1644963069213536/train/2 (pid 46845)] \u001b[0m\u001b[1mTask finished successfully.\u001b[0m\n",
      "\u001b[35m2022-02-15 14:11:10.633 \u001b[0m\u001b[32m[1644963069213536/end/3 (pid 46850)] \u001b[0m\u001b[1mTask is starting.\u001b[0m\n",
      "\u001b[35m2022-02-15 14:11:11.249 \u001b[0m\u001b[32m[1644963069213536/end/3 (pid 46850)] \u001b[0m\u001b[22mthis is the end\u001b[0m\n",
      "\u001b[35m2022-02-15 14:11:11.315 \u001b[0m\u001b[32m[1644963069213536/end/3 (pid 46850)] \u001b[0m\u001b[1mTask finished successfully.\u001b[0m\n",
      "\u001b[35m2022-02-15 14:11:11.315 \u001b[0m\u001b[1mDone!\u001b[0m\n",
      "\u001b[0m"
     ]
    }
   ],
   "source": [
    "#cell_meta:show_steps=start\n",
    "! python myflow.py run"
   ]
  },
  {
   "cell_type": "markdown",
   "id": "5be8ac71-2266-4de5-845f-a5fc5bfc1e5a",
   "metadata": {},
   "source": [
    "This is a normal python cell:"
   ]
  },
  {
   "cell_type": "code",
   "execution_count": 4,
   "id": "445a4764",
   "metadata": {
    "tags": [
     "remove_input"
    ]
   },
   "outputs": [
    {
     "data": {
      "text/plain": [
       "2"
      ]
     },
     "execution_count": 4,
     "metadata": {},
     "output_type": "execute_result"
    }
   ],
   "source": [
    "a = 2\n",
    "a"
   ]
  },
  {
   "cell_type": "markdown",
   "id": "968c2484-ae4e-48ff-ba6c-fbe7d8a82721",
   "metadata": {},
   "source": [
    "The next cell has a cell tag of `remove_input`, so you should only see the output of the cell:"
   ]
  },
  {
   "cell_type": "code",
   "execution_count": 5,
   "id": "ba204318-fb9e-463a-a9ff-56ce3fc30f8b",
   "metadata": {
    "tags": [
     "remove_input"
    ]
   },
   "outputs": [
    {
     "name": "stdout",
     "output_type": "stream",
     "text": [
      "hello, you should not see the print statement that produced me\n"
     ]
    }
   ],
   "source": [
    "print('hello, you should not see the print statement that produced me')"
   ]
  }
 ],
 "metadata": {
  "celltoolbar": "Tags",
  "kernelspec": {
   "display_name": "Python 3 (ipykernel)",
   "language": "python",
   "name": "python3"
  },
  "language_info": {
   "codemirror_mode": {
    "name": "ipython",
    "version": 3
   },
   "file_extension": ".py",
   "mimetype": "text/x-python",
   "name": "python",
   "nbconvert_exporter": "python",
   "pygments_lexer": "ipython3",
   "version": "3.9.7"
  }
 },
 "nbformat": 4,
 "nbformat_minor": 5
}
