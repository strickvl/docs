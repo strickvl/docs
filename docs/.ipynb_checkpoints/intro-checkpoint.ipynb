{
 "cells": [
  {
   "cell_type": "raw",
   "id": "c86247e0-7e2e-4e14-8720-ef317366b034",
   "metadata": {},
   "source": [
    "---\n",
    "slug: /\n",
    "title: Authoring Guide\n",
    "---"
   ]
  },
  {
   "cell_type": "markdown",
   "id": "f622d839-6dc2-440d-91cf-4f20e21bcff7",
   "metadata": {},
   "source": [
    "# Beautiful Technical Documentation with nbdoc and Docusarus\n",
    "\n",
    "> [nbdoc](https://github.com/outerbounds/nbdoc) is a lightweight version of [nbdev](https://github.com/fastai/nbdev) that allows you to create rich, testable content with notebooks.  [Docusarus](https://docusaurus.io/) is a beautiful static site generator for code documentation and blogging.  This project brings all of these together to give you a powerful documentation system."
   ]
  },
  {
   "cell_type": "markdown",
   "id": "396ab5b6-041f-4c87-b8fb-875c7d6a0e8b",
   "metadata": {},
   "source": [
    "## Background: Literate Documentation"
   ]
  },
  {
   "cell_type": "markdown",
   "id": "8a4454d3-7604-411d-bde5-363fcdea25c4",
   "metadata": {},
   "source": [
    "Writing technical documentation can be an ardous process.  Many projects have no documentation at all, and if they do they are often stale or out of date.  Our goal is to make writing documentation as easy as possible by providing the following:\n",
    "\n",
    "\n",
    "- [x] **Authoring experience that encourages the creation** of quality documentation: (1) Write & run code in-situ - avoid copy & pasting code (2) WSYIWG or low-latency hot-reload experience so you can get immediate feedback on how your docs will look.\n",
    "- [x] **Testing**: Automated testing of code snippets\n",
    "- [x] **Unified Search**: Unified search across API docs, tutorials, how-to guides, user guides with a great user interface that helps users understand the source of each\n",
    "- [x] Allow you to **highlight specific lines of code.**\n",
    "- [x] Allow authors to **hide** cell inputs, outputs or both\n",
    "- [ ] **Entity Linking**: Detect entities like modules and class names in backticks and automatically link those to the appropriate documentation.\n",
    "- [ ] **Inline and side-by-side explanations** (pop-ups, two-column view, etc)\n",
    "- [ ] Allow reader to **collapse/show** code and output\n",
    "\n",
    "    \n",
    "The unchecked items are a work in progress.  There are some tools that offer some of these features such as [Jupyter Book](https://jupyterbook.org/intro.html) and [Quarto](https://quarto.org/), but we wanted more flexibility with regards to the static site generator and desired additional features not available on those platforms."
   ]
  },
  {
   "cell_type": "markdown",
   "id": "4182e0d2-b17c-4a92-a5b9-5bca0c33c1d6",
   "metadata": {},
   "source": [
    "## Setup"
   ]
  },
  {
   "cell_type": "markdown",
   "id": "b3532e34-c4e8-47af-86d5-afb195dcc900",
   "metadata": {},
   "source": [
    "\n",
    "1. First, create an isolated python environment using your favorite tool such as `conda`, `pipenv`, `poetry` etc.  Then, from the root of this repo run this command in the terminal:\n",
    "\n",
    "    ```sh\n",
    "    make install\n",
    "    ```\n",
    "\n",
    "2. Then you need to open 3 different terminal windows (I recommend using split panes), and run the following commands in three seperate windows:\n",
    "\n",
    "    _Note: we tried to use docker-compose but had trouble getting some things to run on Apple Silicon, so this will have to do for now._\n",
    "\n",
    "    Start the docs server:\n",
    "    \n",
    "    ```shell\n",
    "    make docs\n",
    "    ```\n",
    "\n",
    "    Watch for changes to notebooks:\n",
    "    \n",
    "    ```sh\n",
    "    make watch\n",
    "    ```\n",
    "\n",
    "    Start Jupyter Lab:\n",
    "    \n",
    "    ```sh\n",
    "    make nb\n",
    "    ```\n",
    "\n",
    "3. Open a browser window for the docs [http://localhost:3000/](http://localhost:3000/).  In my experience, you may have to hard-refresh the first time you make a change, but hot-reloading generally works."
   ]
  },
  {
   "cell_type": "markdown",
   "id": "95a3e88c-c9a8-4d35-adfc-8171aefa9b5e",
   "metadata": {},
   "source": [
    "## Authoring In Notebooks\n",
    "\n",
    "**For this tutorial to make the most sense, you should view this notebook and the rendered doc side-by-side.  This page is called \"Authoring Guide\" and is the default page at the root when you start the site.**  This tutorial assumes you have some familiarity with static site generators, if you do not, please visit the [Docusarus docs](https://docusaurus.io/docs).\n",
    "\n",
    "### Create Pages With Notebooks\n",
    "\n",
    "You can create a notebook in any directory.  When you do this, an associated markdown file is automatically generated with the same name in the same location.  For example `intro.ipynb` generates `intro.md`.  For pages that are created with a notebook, you should always edit them in a notebook.  The markdown that is generated can be useful for debugging, but should not be directly edited a warning message is present in auto-generated markdown files.\n",
    "\n",
    "However, using notebooks in the first place is optional. You can create Markdown files as you normally would to create pages.  We recommend using notebooks whenever possible, as you can embed arbitrary Markdown in notebooks, and also use `raw cells` for things like front matter or MDX components. \n",
    "\n",
    "### Front Matter & MDX\n",
    "\n",
    "The first cell of your notebook should be a `raw` cell with the appropriate front-matter.  For example, this notebook has the following front matter:\n",
    "\n",
    "```\n",
    "---\n",
    "slug: /\n",
    "title: Authoring Guide\n",
    "---\n",
    "```\n",
    "\n",
    "### Python Scripts In Docs\n",
    "\n",
    "If you use the `%%writefile` magic, the magic command will get stripped from the cell, and the cell will be annotated with the appropriate filename as a title to denote that the cell block is referencing a script.  Furthermore, any outputs are removed when you use this magic command."
   ]
  },
  {
   "cell_type": "code",
   "execution_count": 1,
   "id": "bfacf3dd-2e2d-4c62-ab68-691f052e07a5",
   "metadata": {},
   "outputs": [
    {
     "name": "stdout",
     "output_type": "stream",
     "text": [
      "Overwriting myflow.py\n"
     ]
    }
   ],
   "source": [
    "%%writefile myflow.py\n",
    "from metaflow import FlowSpec, step\n",
    "\n",
    "\n",
    "class MyFlow(FlowSpec):\n",
    "\n",
    "    @step\n",
    "    def start(self):\n",
    "        self.some_data = ['some', 'data']\n",
    "        self.next(self.middle)\n",
    "        \n",
    "\n",
    "    @step\n",
    "    def middle(self):\n",
    "        self.next(self.end)\n",
    "\n",
    "    @step\n",
    "    def end(self):\n",
    "        pass\n",
    "\n",
    "\n",
    "if __name__ == '__main__':\n",
    "    MyFlow()"
   ]
  },
  {
   "cell_type": "markdown",
   "id": "5a051dc6-8e57-4809-923c-bf98d2361382",
   "metadata": {},
   "source": [
    "### Running shell commands\n",
    "\n",
    "You can use the `!` magic to run shell commands.  When you do this, the cell is marked with the appropriate language automatically.  For Metaflow output, the preamble of the logs are automatically removed."
   ]
  },
  {
   "cell_type": "code",
   "execution_count": 2,
   "id": "31eb3f2e-47d2-4b27-b815-d840c78fb68a",
   "metadata": {},
   "outputs": [
    {
     "name": "stdout",
     "output_type": "stream",
     "text": [
      "\u001b[35m\u001b[1mMetaflow 2.5.1.post3+git3b98a67\u001b[0m\u001b[35m\u001b[22m executing \u001b[0m\u001b[31m\u001b[1mMyFlow\u001b[0m\u001b[35m\u001b[22m\u001b[0m\u001b[35m\u001b[22m for \u001b[0m\u001b[31m\u001b[1muser:hamel\u001b[0m\u001b[35m\u001b[22m\u001b[K\u001b[0m\u001b[35m\u001b[22m\u001b[0m\n",
      "\u001b[35m\u001b[22mValidating your flow...\u001b[K\u001b[0m\u001b[35m\u001b[22m\u001b[0m\n",
      "\u001b[32m\u001b[1m    The graph looks good!\u001b[K\u001b[0m\u001b[32m\u001b[1m\u001b[0m\n",
      "\u001b[35m\u001b[22mRunning pylint...\u001b[K\u001b[0m\u001b[35m\u001b[22m\u001b[0m\n",
      "\u001b[32m\u001b[1m    Pylint is happy!\u001b[K\u001b[0m\u001b[32m\u001b[1m\u001b[0m\n",
      "\u001b[35m2022-02-16 22:57:03.655 \u001b[0m\u001b[1mWorkflow starting (run-id 1645081023652490):\u001b[0m\n",
      "\u001b[35m2022-02-16 22:57:03.665 \u001b[0m\u001b[32m[1645081023652490/start/1 (pid 81206)] \u001b[0m\u001b[1mTask is starting.\u001b[0m\n",
      "\u001b[35m2022-02-16 22:57:04.456 \u001b[0m\u001b[32m[1645081023652490/start/1 (pid 81206)] \u001b[0m\u001b[1mTask finished successfully.\u001b[0m\n",
      "\u001b[35m2022-02-16 22:57:04.471 \u001b[0m\u001b[32m[1645081023652490/middle/2 (pid 81211)] \u001b[0m\u001b[1mTask is starting.\u001b[0m\n",
      "\u001b[35m2022-02-16 22:57:05.287 \u001b[0m\u001b[32m[1645081023652490/middle/2 (pid 81211)] \u001b[0m\u001b[1mTask finished successfully.\u001b[0m\n",
      "\u001b[35m2022-02-16 22:57:05.299 \u001b[0m\u001b[32m[1645081023652490/end/3 (pid 81226)] \u001b[0m\u001b[1mTask is starting.\u001b[0m\n",
      "\u001b[35m2022-02-16 22:57:06.099 \u001b[0m\u001b[32m[1645081023652490/end/3 (pid 81226)] \u001b[0m\u001b[1mTask finished successfully.\u001b[0m\n",
      "\u001b[35m2022-02-16 22:57:06.100 \u001b[0m\u001b[1mDone!\u001b[0m\n",
      "\u001b[0m"
     ]
    }
   ],
   "source": [
    "!python myflow.py run"
   ]
  },
  {
   "cell_type": "markdown",
   "id": "94b9c1ef-31f2-42c8-a71b-098816df2c86",
   "metadata": {},
   "source": [
    "You may wish to only show logs from particular steps when executing a Flow.  You can accomplish this by using the `#cell_meta:show_steps=<step_name>` comment:"
   ]
  },
  {
   "cell_type": "code",
   "execution_count": 3,
   "id": "669391c0-dc91-4d6c-a209-41a13e7d2b7d",
   "metadata": {},
   "outputs": [
    {
     "name": "stdout",
     "output_type": "stream",
     "text": [
      "\u001b[35m\u001b[1mMetaflow 2.5.1.post3+git3b98a67\u001b[0m\u001b[35m\u001b[22m executing \u001b[0m\u001b[31m\u001b[1mMyFlow\u001b[0m\u001b[35m\u001b[22m\u001b[0m\u001b[35m\u001b[22m for \u001b[0m\u001b[31m\u001b[1muser:hamel\u001b[0m\u001b[35m\u001b[22m\u001b[K\u001b[0m\u001b[35m\u001b[22m\u001b[0m\n",
      "\u001b[35m\u001b[22mValidating your flow...\u001b[K\u001b[0m\u001b[35m\u001b[22m\u001b[0m\n",
      "\u001b[32m\u001b[1m    The graph looks good!\u001b[K\u001b[0m\u001b[32m\u001b[1m\u001b[0m\n",
      "\u001b[35m\u001b[22mRunning pylint...\u001b[K\u001b[0m\u001b[35m\u001b[22m\u001b[0m\n",
      "\u001b[32m\u001b[1m    Pylint is happy!\u001b[K\u001b[0m\u001b[32m\u001b[1m\u001b[0m\n",
      "\u001b[35m2022-02-16 22:57:07.529 \u001b[0m\u001b[1mWorkflow starting (run-id 1645081027525826):\u001b[0m\n",
      "\u001b[35m2022-02-16 22:57:07.536 \u001b[0m\u001b[32m[1645081027525826/start/1 (pid 81238)] \u001b[0m\u001b[1mTask is starting.\u001b[0m\n",
      "\u001b[35m2022-02-16 22:57:08.359 \u001b[0m\u001b[32m[1645081027525826/start/1 (pid 81238)] \u001b[0m\u001b[1mTask finished successfully.\u001b[0m\n",
      "\u001b[35m2022-02-16 22:57:08.369 \u001b[0m\u001b[32m[1645081027525826/middle/2 (pid 81243)] \u001b[0m\u001b[1mTask is starting.\u001b[0m\n",
      "\u001b[35m2022-02-16 22:57:09.185 \u001b[0m\u001b[32m[1645081027525826/middle/2 (pid 81243)] \u001b[0m\u001b[1mTask finished successfully.\u001b[0m\n",
      "\u001b[35m2022-02-16 22:57:09.194 \u001b[0m\u001b[32m[1645081027525826/end/3 (pid 81248)] \u001b[0m\u001b[1mTask is starting.\u001b[0m\n",
      "\u001b[35m2022-02-16 22:57:10.020 \u001b[0m\u001b[32m[1645081027525826/end/3 (pid 81248)] \u001b[0m\u001b[1mTask finished successfully.\u001b[0m\n",
      "\u001b[35m2022-02-16 22:57:10.021 \u001b[0m\u001b[1mDone!\u001b[0m\n",
      "\u001b[0m"
     ]
    }
   ],
   "source": [
    "#cell_meta:show_steps=start\n",
    "!python myflow.py run"
   ]
  },
  {
   "cell_type": "markdown",
   "id": "d77679fe-355b-421d-8088-1abd7a287394",
   "metadata": {},
   "source": [
    "You can show multiple steps by seperating step names with commas:"
   ]
  },
  {
   "cell_type": "code",
   "execution_count": 4,
   "id": "89ab6036-b839-483f-93a0-40d37b620dd7",
   "metadata": {},
   "outputs": [
    {
     "name": "stdout",
     "output_type": "stream",
     "text": [
      "\u001b[35m\u001b[1mMetaflow 2.5.1.post3+git3b98a67\u001b[0m\u001b[35m\u001b[22m executing \u001b[0m\u001b[31m\u001b[1mMyFlow\u001b[0m\u001b[35m\u001b[22m\u001b[0m\u001b[35m\u001b[22m for \u001b[0m\u001b[31m\u001b[1muser:hamel\u001b[0m\u001b[35m\u001b[22m\u001b[K\u001b[0m\u001b[35m\u001b[22m\u001b[0m\n",
      "\u001b[35m\u001b[22mValidating your flow...\u001b[K\u001b[0m\u001b[35m\u001b[22m\u001b[0m\n",
      "\u001b[32m\u001b[1m    The graph looks good!\u001b[K\u001b[0m\u001b[32m\u001b[1m\u001b[0m\n",
      "\u001b[35m\u001b[22mRunning pylint...\u001b[K\u001b[0m\u001b[35m\u001b[22m\u001b[0m\n",
      "\u001b[32m\u001b[1m    Pylint is happy!\u001b[K\u001b[0m\u001b[32m\u001b[1m\u001b[0m\n",
      "\u001b[35m2022-02-16 22:57:11.456 \u001b[0m\u001b[1mWorkflow starting (run-id 1645081031453011):\u001b[0m\n",
      "\u001b[35m2022-02-16 22:57:11.464 \u001b[0m\u001b[32m[1645081031453011/start/1 (pid 81258)] \u001b[0m\u001b[1mTask is starting.\u001b[0m\n",
      "\u001b[35m2022-02-16 22:57:12.281 \u001b[0m\u001b[32m[1645081031453011/start/1 (pid 81258)] \u001b[0m\u001b[1mTask finished successfully.\u001b[0m\n",
      "\u001b[35m2022-02-16 22:57:12.289 \u001b[0m\u001b[32m[1645081031453011/middle/2 (pid 81263)] \u001b[0m\u001b[1mTask is starting.\u001b[0m\n",
      "\u001b[35m2022-02-16 22:57:13.089 \u001b[0m\u001b[32m[1645081031453011/middle/2 (pid 81263)] \u001b[0m\u001b[1mTask finished successfully.\u001b[0m\n",
      "\u001b[35m2022-02-16 22:57:13.098 \u001b[0m\u001b[32m[1645081031453011/end/3 (pid 81268)] \u001b[0m\u001b[1mTask is starting.\u001b[0m\n",
      "\u001b[35m2022-02-16 22:57:13.929 \u001b[0m\u001b[32m[1645081031453011/end/3 (pid 81268)] \u001b[0m\u001b[1mTask finished successfully.\u001b[0m\n",
      "\u001b[35m2022-02-16 22:57:13.930 \u001b[0m\u001b[1mDone!\u001b[0m\n",
      "\u001b[0m"
     ]
    }
   ],
   "source": [
    "#cell_meta:show_steps=start,end\n",
    "!python myflow.py run"
   ]
  },
  {
   "cell_type": "markdown",
   "id": "a09447a4-9c44-4420-8db5-034867d14e9b",
   "metadata": {},
   "source": [
    "### Writing Interactive Code & Toggling Visibility\n",
    "\n",
    "It can be useful to write interactive code in notebooks as well.  If you want to interact with a Flow, we recommend using the `--run-id-file <filemame>` flag.\n",
    "\n",
    "Note we are hiding both the input and output of the below cell (because it is a bit repetitive in this case) with the `#cell_meta:tag=remove_cell` comment:"
   ]
  },
  {
   "cell_type": "code",
   "execution_count": 5,
   "id": "84f5283c-3193-4cdf-87a1-dcf7eac40645",
   "metadata": {},
   "outputs": [
    {
     "name": "stdout",
     "output_type": "stream",
     "text": [
      "\u001b[35m\u001b[1mMetaflow 2.5.1.post3+git3b98a67\u001b[0m\u001b[35m\u001b[22m executing \u001b[0m\u001b[31m\u001b[1mMyFlow\u001b[0m\u001b[35m\u001b[22m\u001b[0m\u001b[35m\u001b[22m for \u001b[0m\u001b[31m\u001b[1muser:hamel\u001b[0m\u001b[35m\u001b[22m\u001b[K\u001b[0m\u001b[35m\u001b[22m\u001b[0m\n",
      "\u001b[35m\u001b[22mValidating your flow...\u001b[K\u001b[0m\u001b[35m\u001b[22m\u001b[0m\n",
      "\u001b[32m\u001b[1m    The graph looks good!\u001b[K\u001b[0m\u001b[32m\u001b[1m\u001b[0m\n",
      "\u001b[35m\u001b[22mRunning pylint...\u001b[K\u001b[0m\u001b[35m\u001b[22m\u001b[0m\n",
      "\u001b[32m\u001b[1m    Pylint is happy!\u001b[K\u001b[0m\u001b[32m\u001b[1m\u001b[0m\n",
      "\u001b[35m2022-02-16 22:57:15.452 \u001b[0m\u001b[1mWorkflow starting (run-id 1645081035448485):\u001b[0m\n",
      "\u001b[35m2022-02-16 22:57:15.464 \u001b[0m\u001b[32m[1645081035448485/start/1 (pid 81281)] \u001b[0m\u001b[1mTask is starting.\u001b[0m\n",
      "\u001b[35m2022-02-16 22:57:16.279 \u001b[0m\u001b[32m[1645081035448485/start/1 (pid 81281)] \u001b[0m\u001b[1mTask finished successfully.\u001b[0m\n",
      "\u001b[35m2022-02-16 22:57:16.289 \u001b[0m\u001b[32m[1645081035448485/middle/2 (pid 81286)] \u001b[0m\u001b[1mTask is starting.\u001b[0m\n",
      "\u001b[35m2022-02-16 22:57:17.156 \u001b[0m\u001b[32m[1645081035448485/middle/2 (pid 81286)] \u001b[0m\u001b[1mTask finished successfully.\u001b[0m\n",
      "\u001b[35m2022-02-16 22:57:17.167 \u001b[0m\u001b[32m[1645081035448485/end/3 (pid 81291)] \u001b[0m\u001b[1mTask is starting.\u001b[0m\n",
      "\u001b[35m2022-02-16 22:57:17.986 \u001b[0m\u001b[32m[1645081035448485/end/3 (pid 81291)] \u001b[0m\u001b[1mTask finished successfully.\u001b[0m\n",
      "\u001b[35m2022-02-16 22:57:17.987 \u001b[0m\u001b[1mDone!\u001b[0m\n",
      "\u001b[0m"
     ]
    }
   ],
   "source": [
    "#cell_meta:tag=remove_cell\n",
    "!python myflow.py run --run-id-file run_id.txt"
   ]
  },
  {
   "cell_type": "markdown",
   "id": "490eadf1-1f73-493f-9d14-f74e30d8b5a7",
   "metadata": {},
   "source": [
    "Now, you can write and run your code as normal and this will show up in the docs:"
   ]
  },
  {
   "cell_type": "code",
   "execution_count": 6,
   "id": "597bdb65-6e69-4478-9c68-3c22e2492a91",
   "metadata": {},
   "outputs": [
    {
     "data": {
      "text/plain": [
       "['some', 'data']"
      ]
     },
     "execution_count": 6,
     "metadata": {},
     "output_type": "execute_result"
    }
   ],
   "source": [
    "run_id = !cat run_id.txt\n",
    "from metaflow import Run\n",
    "run = Run(f'Myflow/{run_id[0]}')\n",
    "\n",
    "run.data.some_data"
   ]
  },
  {
   "cell_type": "markdown",
   "id": "e24d8595-5a5c-4161-b7e6-d630cd2d9716",
   "metadata": {},
   "source": [
    "It is often smart to run tests in your docs.  To do this, simply add assert statements.  These will get tested automatically when we run the test suite."
   ]
  },
  {
   "cell_type": "code",
   "execution_count": 7,
   "id": "0ded71fe-8f28-4771-b5d3-124f8dd62fba",
   "metadata": {},
   "outputs": [],
   "source": [
    "assert run.data.some_data == ['some', 'data']\n",
    "assert run.successful"
   ]
  },
  {
   "cell_type": "markdown",
   "id": "bc1bd86c-532b-483b-af99-a3b643d38616",
   "metadata": {},
   "source": [
    "But what if you only want to show the cell input, but not the output.  Perhaps the output is too long and not necesary.  You can do this with the `#cell_meta:tag=remove_output` comment."
   ]
  },
  {
   "cell_type": "code",
   "execution_count": 8,
   "id": "1d38e2b0-d180-4e46-b366-15e772942db5",
   "metadata": {},
   "outputs": [
    {
     "name": "stdout",
     "output_type": "stream",
     "text": [
      "This output would be really annoying if shown in the docs\n",
      "This output would be really annoying if shown in the docs\n",
      "This output would be really annoying if shown in the docs\n",
      "This output would be really annoying if shown in the docs\n",
      "This output would be really annoying if shown in the docs\n",
      "This output would be really annoying if shown in the docs\n",
      "This output would be really annoying if shown in the docs\n",
      "This output would be really annoying if shown in the docs\n",
      "This output would be really annoying if shown in the docs\n",
      "This output would be really annoying if shown in the docs\n",
      "\n"
     ]
    }
   ],
   "source": [
    " #cell_meta:tag=remove_output\n",
    "print(''.join(['This output would be really annoying if shown in the docs\\n'] * 10))"
   ]
  },
  {
   "cell_type": "markdown",
   "id": "58a7078c-3dec-4ba1-a429-c0974e142d22",
   "metadata": {},
   "source": [
    "You may want to just show the output and not the input.  You can do that with the `#cell_meta:tag=remove_input` comment:"
   ]
  },
  {
   "cell_type": "code",
   "execution_count": 9,
   "id": "796dfe9b-a103-4bb0-83b9-6dd900391ee0",
   "metadata": {},
   "outputs": [
    {
     "name": "stdout",
     "output_type": "stream",
     "text": [
      "You can only see the output, but not the code that created me\n",
      "You can only see the output, but not the code that created me\n",
      "You can only see the output, but not the code that created me\n",
      "\n"
     ]
    }
   ],
   "source": [
    "#cell_meta:tag=remove_input\n",
    "print(''.join(['You can only see the output, but not the code that created me\\n'] * 3))"
   ]
  },
  {
   "cell_type": "markdown",
   "id": "66472032-f830-466e-aa0c-6dccddabaf68",
   "metadata": {},
   "source": [
    "## Running Tests"
   ]
  },
  {
   "cell_type": "markdown",
   "id": "61a08a1f-934d-4d01-a8ba-489e57fb1fc1",
   "metadata": {},
   "source": [
    "To test the notebooks, run `make test`.  This will execute all notebooks in parallel and report an error if there are any errors found:"
   ]
  },
  {
   "cell_type": "markdown",
   "id": "8b25c228-856d-4500-8764-fe750a52a248",
   "metadata": {},
   "source": [
    "### Skipping tests in cells"
   ]
  },
  {
   "cell_type": "markdown",
   "id": "93f4a30f-1eb9-4704-b4e6-a02ce50df2b4",
   "metadata": {},
   "source": [
    "If you want to skip certain cells from running in tests because they take a really long time, you can place the comment `#notest` at the top of the cell."
   ]
  },
  {
   "cell_type": "markdown",
   "id": "768251e9-8a7a-493c-87a7-4712c1162c6f",
   "metadata": {},
   "source": [
    "## Docusaurus\n",
    "\n",
    "All Docusarus features will work because notebook markdown just becomes regular markdown.  Furthermore, special things such as MDX, JSX, or Front Matter can be created with a raw cell. For more information, visit [the Docusarus docs](https://docusaurus.io/docs).\n",
    "\n",
    "### Docusaurus Installation\n",
    "\n",
    "```\n",
    "$ yarn\n",
    "```\n",
    "\n",
    "### Docusaurus Local Development\n",
    "\n",
    "```\n",
    "$ yarn start\n",
    "```\n",
    "\n",
    "This command starts a local development server and opens up a browser window. Most changes are reflected live without having to restart the server.\n",
    "\n",
    "### Docusaurus Build\n",
    "\n",
    "```\n",
    "$ yarn build\n",
    "```\n",
    "\n",
    "This command generates static content into the `build` directory and can be served using any static contents hosting service.\n",
    "\n",
    "### Docusaurus Deployment\n",
    "\n",
    "Using SSH:\n",
    "\n",
    "```\n",
    "$ USE_SSH=true yarn deploy\n",
    "```\n",
    "\n",
    "Not using SSH:\n",
    "\n",
    "```\n",
    "$ GIT_USER=<Your GitHub username> yarn deploy\n",
    "```\n",
    "\n",
    "If you are using GitHub pages for hosting, this command is a convenient way to build the website and push to the `gh-pages` branch."
   ]
  },
  {
   "cell_type": "code",
   "execution_count": null,
   "id": "cc8357f1-7efd-47c3-88ef-f39c7d44381a",
   "metadata": {},
   "outputs": [],
   "source": []
  }
 ],
 "metadata": {
  "kernelspec": {
   "display_name": "Python 3.9.7 ('base')",
   "language": "python",
   "name": "python397jvsc74a57bd042fd40e048e0585f88ec242f050f7ef0895cf845a8dd1159352394e5826cd102"
  },
  "language_info": {
   "codemirror_mode": {
    "name": "ipython",
    "version": 3
   },
   "file_extension": ".py",
   "mimetype": "text/x-python",
   "name": "python",
   "nbconvert_exporter": "python",
   "pygments_lexer": "ipython3",
   "version": "3.9.7"
  }
 },
 "nbformat": 4,
 "nbformat_minor": 5
}
